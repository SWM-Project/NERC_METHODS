{
  "nbformat": 4,
  "nbformat_minor": 0,
  "metadata": {
    "colab": {
      "name": "bilstm-api.ipynb",
      "provenance": []
    },
    "kernelspec": {
      "name": "python3",
      "display_name": "Python 3"
    },
    "language_info": {
      "name": "python"
    }
  },
  "cells": [
    {
      "cell_type": "code",
      "metadata": {
        "colab": {
          "base_uri": "https://localhost:8080/"
        },
        "id": "DVKu6ZbuR2WK",
        "outputId": "0fcb9a0a-a44e-40ce-a51e-8448c8dde897"
      },
      "source": [
        "!pip install flask_ngrok\n",
        "!pip install flask-cors"
      ],
      "execution_count": 54,
      "outputs": [
        {
          "output_type": "stream",
          "text": [
            "Requirement already satisfied: flask_ngrok in /usr/local/lib/python3.7/dist-packages (0.0.25)\n",
            "Requirement already satisfied: Flask>=0.8 in /usr/local/lib/python3.7/dist-packages (from flask_ngrok) (1.1.2)\n",
            "Requirement already satisfied: requests in /usr/local/lib/python3.7/dist-packages (from flask_ngrok) (2.23.0)\n",
            "Requirement already satisfied: click>=5.1 in /usr/local/lib/python3.7/dist-packages (from Flask>=0.8->flask_ngrok) (7.1.2)\n",
            "Requirement already satisfied: Jinja2>=2.10.1 in /usr/local/lib/python3.7/dist-packages (from Flask>=0.8->flask_ngrok) (2.11.3)\n",
            "Requirement already satisfied: itsdangerous>=0.24 in /usr/local/lib/python3.7/dist-packages (from Flask>=0.8->flask_ngrok) (1.1.0)\n",
            "Requirement already satisfied: Werkzeug>=0.15 in /usr/local/lib/python3.7/dist-packages (from Flask>=0.8->flask_ngrok) (1.0.1)\n",
            "Requirement already satisfied: urllib3!=1.25.0,!=1.25.1,<1.26,>=1.21.1 in /usr/local/lib/python3.7/dist-packages (from requests->flask_ngrok) (1.24.3)\n",
            "Requirement already satisfied: idna<3,>=2.5 in /usr/local/lib/python3.7/dist-packages (from requests->flask_ngrok) (2.10)\n",
            "Requirement already satisfied: chardet<4,>=3.0.2 in /usr/local/lib/python3.7/dist-packages (from requests->flask_ngrok) (3.0.4)\n",
            "Requirement already satisfied: certifi>=2017.4.17 in /usr/local/lib/python3.7/dist-packages (from requests->flask_ngrok) (2020.12.5)\n",
            "Requirement already satisfied: MarkupSafe>=0.23 in /usr/local/lib/python3.7/dist-packages (from Jinja2>=2.10.1->Flask>=0.8->flask_ngrok) (1.1.1)\n",
            "Requirement already satisfied: flask-cors in /usr/local/lib/python3.7/dist-packages (3.0.10)\n",
            "Requirement already satisfied: Six in /usr/local/lib/python3.7/dist-packages (from flask-cors) (1.15.0)\n",
            "Requirement already satisfied: Flask>=0.9 in /usr/local/lib/python3.7/dist-packages (from flask-cors) (1.1.2)\n",
            "Requirement already satisfied: click>=5.1 in /usr/local/lib/python3.7/dist-packages (from Flask>=0.9->flask-cors) (7.1.2)\n",
            "Requirement already satisfied: itsdangerous>=0.24 in /usr/local/lib/python3.7/dist-packages (from Flask>=0.9->flask-cors) (1.1.0)\n",
            "Requirement already satisfied: Werkzeug>=0.15 in /usr/local/lib/python3.7/dist-packages (from Flask>=0.9->flask-cors) (1.0.1)\n",
            "Requirement already satisfied: Jinja2>=2.10.1 in /usr/local/lib/python3.7/dist-packages (from Flask>=0.9->flask-cors) (2.11.3)\n",
            "Requirement already satisfied: MarkupSafe>=0.23 in /usr/local/lib/python3.7/dist-packages (from Jinja2>=2.10.1->Flask>=0.9->flask-cors) (1.1.1)\n"
          ],
          "name": "stdout"
        }
      ]
    },
    {
      "cell_type": "code",
      "metadata": {
        "id": "qKvdKPzlSNox"
      },
      "source": [
        "data_dir = \"/content/drive/Shareddrives/SWM - NER/models/BiLSTM/\""
      ],
      "execution_count": 55,
      "outputs": []
    },
    {
      "cell_type": "code",
      "metadata": {
        "id": "FOdg33jJW4Xi"
      },
      "source": [
        "import numpy as np\n",
        "import os\n",
        "os.environ['TF_CPP_MIN_LOG_LEVEL'] = '3'\n",
        "from keras.models import load_model\n",
        "from keras.preprocessing.sequence import pad_sequences\n",
        "from nltk import word_tokenize\n",
        "\n",
        "class Parser:\n",
        "\n",
        "    def __init__(self):\n",
        "        # ::Hard coded char lookup ::\n",
        "        self.char2Idx = {\"PADDING\":0, \"UNKNOWN\":1}\n",
        "        for c in \" 0123456789abcdefghijklmnopqrstuvwxyzABCDEFGHIJKLMNOPQRSTUVWXYZ.,-_()[]{}!?:;#'\\\"/\\\\%$`&=*+@^~|\":\n",
        "            self.char2Idx[c] = len(self.char2Idx)\n",
        "        # :: Hard coded case lookup ::\n",
        "        self.case2Idx = {'numeric': 0, 'allLower':1, 'allUpper':2, 'initialUpper':3, 'other':4, 'mainly_numeric':5, 'contains_digit': 6, 'PADDING_TOKEN':7}\n",
        "\n",
        "    def load_models(self, loc=None):\n",
        "        if not loc:\n",
        "            loc = os.path.join(os.path.expanduser('~'), '.ner_model')\n",
        "        self.model = load_model(os.path.join(loc,\"model.h5\"))\n",
        "        # loading word2Idx\n",
        "        np_load_old = np.load\n",
        "        np.load = lambda *a, **k: np_load_old(*a, allow_pickle=True, **k)\n",
        "        self.word2Idx = np.load(os.path.join(loc,\"word2Idx.npy\")).item()\n",
        "        np.load = np_load_old\n",
        "        # loading idx2Label\n",
        "        np_load_old = np.load\n",
        "        np.load = lambda *a, **k: np_load_old(*a, allow_pickle=True, **k)\n",
        "        self.idx2Label = np.load(os.path.join(loc,\"idx2Label.npy\")).item()\n",
        "        np.load = np_load_old\n",
        "\n",
        "\n",
        "    def getCasing(self,word, caseLookup):   \n",
        "        casing = 'other'\n",
        "        \n",
        "        numDigits = 0\n",
        "        for char in word:\n",
        "            if char.isdigit():\n",
        "                numDigits += 1\n",
        "                \n",
        "        digitFraction = numDigits / float(len(word))\n",
        "        \n",
        "        if word.isdigit(): #Is a digit\n",
        "            casing = 'numeric'\n",
        "        elif digitFraction > 0.5:\n",
        "            casing = 'mainly_numeric'\n",
        "        elif word.islower(): #All lower case\n",
        "            casing = 'allLower'\n",
        "        elif word.isupper(): #All upper case\n",
        "            casing = 'allUpper'\n",
        "        elif word[0].isupper(): #is a title, initial char upper, then all lower\n",
        "            casing = 'initialUpper'\n",
        "        elif numDigits > 0:\n",
        "            casing = 'contains_digit'  \n",
        "        return caseLookup[casing]\n",
        "\n",
        "    def createTensor(self,sentence, word2Idx,case2Idx,char2Idx):\n",
        "        unknownIdx = word2Idx['UNKNOWN_TOKEN']\n",
        "    \n",
        "        wordIndices = []    \n",
        "        caseIndices = []\n",
        "        charIndices = []\n",
        "            \n",
        "        for word,char in sentence:  \n",
        "            word = str(word)\n",
        "            if word in word2Idx:\n",
        "                wordIdx = word2Idx[word]\n",
        "            elif word.lower() in word2Idx:\n",
        "                wordIdx = word2Idx[word.lower()]                 \n",
        "            else:\n",
        "                wordIdx = unknownIdx\n",
        "            charIdx = []\n",
        "            for x in char:\n",
        "                if x in char2Idx.keys():\n",
        "                    charIdx.append(char2Idx[x])\n",
        "                else:\n",
        "                    charIdx.append(char2Idx['UNKNOWN'])   \n",
        "            wordIndices.append(wordIdx)\n",
        "            caseIndices.append(self.getCasing(word, case2Idx))\n",
        "            charIndices.append(charIdx)\n",
        "            \n",
        "        return [wordIndices, caseIndices, charIndices]\n",
        "\n",
        "    def addCharInformation(self, sentence):\n",
        "        return [[word, list(str(word))] for word in sentence]\n",
        "\n",
        "    def padding(self,Sentence):\n",
        "        Sentence[2] = pad_sequences(Sentence[2],52,padding='post')\n",
        "        return Sentence\n",
        "\n",
        "    def predict(self,Sentence):\n",
        "        Sentence = words =  word_tokenize(Sentence)\n",
        "        Sentence = self.addCharInformation(Sentence)\n",
        "        Sentence = self.padding(self.createTensor(Sentence,self.word2Idx,self.case2Idx,self.char2Idx))\n",
        "        tokens, casing,char = Sentence\n",
        "        tokens = np.asarray([tokens])     \n",
        "        casing = np.asarray([casing])\n",
        "        char = np.asarray([char])\n",
        "        pred = self.model.predict([tokens, casing,char], verbose=False)[0]   \n",
        "        pred = pred.argmax(axis=-1)\n",
        "        pred = [self.idx2Label[x].strip() for x in pred]\n",
        "        return list(zip(words,pred))"
      ],
      "execution_count": 56,
      "outputs": []
    },
    {
      "cell_type": "code",
      "metadata": {
        "colab": {
          "base_uri": "https://localhost:8080/"
        },
        "id": "yeLhQQJCZVui",
        "outputId": "89a00489-9be6-4373-80d9-73244eb0797b"
      },
      "source": [
        "p = Parser()\n",
        "p.load_models(data_dir)\n",
        "p.predict(\"Tempe is a place\")"
      ],
      "execution_count": 57,
      "outputs": [
        {
          "output_type": "execute_result",
          "data": {
            "text/plain": [
              "[('Tempe', 'B-ORG'), ('is', 'O'), ('a', 'O'), ('place', 'O')]"
            ]
          },
          "metadata": {
            "tags": []
          },
          "execution_count": 57
        }
      ]
    },
    {
      "cell_type": "code",
      "metadata": {
        "id": "aQX3DgoEfqF-"
      },
      "source": [
        "import json"
      ],
      "execution_count": 58,
      "outputs": []
    },
    {
      "cell_type": "code",
      "metadata": {
        "id": "8LXdehkne_BO"
      },
      "source": [
        "def pred_wrapper(data_arg):\n",
        "  data = data_arg['data'].replace(\".\",\" \")\n",
        "  sentences = [i.strip() for i in data.split(\" \") if i != '']\n",
        "  res = p.predict(data_arg['data'])\n",
        "  ret_list = []\n",
        "  ner_ctr = 0\n",
        "  for word,tag in res:\n",
        "    ##print(type(tag))\n",
        "    if tag != 'O':\n",
        "        ret_list.append([word, tag])\n",
        "        ner_ctr+=1\n",
        "  return json.dumps({'count': ner_ctr, 'data': ret_list})"
      ],
      "execution_count": 59,
      "outputs": []
    },
    {
      "cell_type": "code",
      "metadata": {
        "colab": {
          "base_uri": "https://localhost:8080/",
          "height": 74
        },
        "id": "PzKkCrWDfQLj",
        "outputId": "cca2e8f9-6872-407d-c014-d86224354f7d"
      },
      "source": [
        "pred_wrapper({'data':\"I am at tempe. Tempe in Az\"})"
      ],
      "execution_count": 60,
      "outputs": [
        {
          "output_type": "stream",
          "text": [
            "WARNING:tensorflow:5 out of the last 8 calls to <function Model.make_predict_function.<locals>.predict_function at 0x7f30d0894050> triggered tf.function retracing. Tracing is expensive and the excessive number of tracings could be due to (1) creating @tf.function repeatedly in a loop, (2) passing tensors with different shapes, (3) passing Python objects instead of tensors. For (1), please define your @tf.function outside of the loop. For (2), @tf.function has experimental_relax_shapes=True option that relaxes argument shapes that can avoid unnecessary retracing. For (3), please refer to https://www.tensorflow.org/guide/function#controlling_retracing and https://www.tensorflow.org/api_docs/python/tf/function for  more details.\n"
          ],
          "name": "stdout"
        },
        {
          "output_type": "execute_result",
          "data": {
            "application/vnd.google.colaboratory.intrinsic+json": {
              "type": "string"
            },
            "text/plain": [
              "'{\"count\": 2, \"data\": [[\"Tempe\", \"B-ORG\"], [\"Az\", \"B-LOC\"]]}'"
            ]
          },
          "metadata": {
            "tags": []
          },
          "execution_count": 60
        }
      ]
    },
    {
      "cell_type": "code",
      "metadata": {
        "id": "XQ7asWbJgC5B"
      },
      "source": [
        "from flask import Flask, jsonify\n",
        "from flask_ngrok import run_with_ngrok\n",
        "from flask import request\n",
        "import json\n",
        "from flask_cors import CORS, cross_origin\n",
        "import warnings\n",
        "warnings.filterwarnings('ignore')\n",
        "import pickle"
      ],
      "execution_count": 61,
      "outputs": []
    },
    {
      "cell_type": "code",
      "metadata": {
        "colab": {
          "base_uri": "https://localhost:8080/"
        },
        "id": "vEogZgz8f1T_",
        "outputId": "4bd4dd8e-628d-40e3-f771-5c5477cb1600"
      },
      "source": [
        "def web_app():\n",
        "    app = Flask(__name__)\n",
        "    run_with_ngrok(app)\n",
        "    CORS(app)\n",
        "    @app.route('/', methods=['GET', 'POST'])\n",
        "    @cross_origin()\n",
        "    def run_app():\n",
        "        return \"/pred_bilstm/ for Predictions.\"\n",
        "\n",
        "    @app.route('/pred_bilstm/', methods=['GET', 'POST'])\n",
        "    def pred_app():\n",
        "        jsonData = request.get_json(force=True)\n",
        "        print(jsonData)\n",
        "        res = pred_wrapper(jsonData)\n",
        "        return res\n",
        "    app.run()\n",
        "\n",
        "web_app()"
      ],
      "execution_count": 62,
      "outputs": [
        {
          "output_type": "stream",
          "text": [
            " * Serving Flask app \"__main__\" (lazy loading)\n",
            " * Environment: production\n",
            "\u001b[31m   WARNING: This is a development server. Do not use it in a production deployment.\u001b[0m\n",
            "\u001b[2m   Use a production WSGI server instead.\u001b[0m\n",
            " * Debug mode: off\n"
          ],
          "name": "stdout"
        },
        {
          "output_type": "stream",
          "text": [
            " * Running on http://127.0.0.1:5000/ (Press CTRL+C to quit)\n"
          ],
          "name": "stderr"
        },
        {
          "output_type": "stream",
          "text": [
            " * Running on http://d4b8eb4b25cf.ngrok.io\n",
            " * Traffic stats available on http://127.0.0.1:4040\n"
          ],
          "name": "stdout"
        },
        {
          "output_type": "stream",
          "text": [
            "127.0.0.1 - - [05/Apr/2021 19:28:53] \"\u001b[32mPOST /pred_bilstm HTTP/1.1\u001b[0m\" 308 -\n"
          ],
          "name": "stderr"
        },
        {
          "output_type": "stream",
          "text": [
            "{'data': \"Germany representative to the European Union's veterinary committee Werner Zwingmann said on Wednesday consumers should buy sheepmeat from countries other than Britain until the scientific advice.\"}\n",
            "WARNING:tensorflow:6 out of the last 9 calls to <function Model.make_predict_function.<locals>.predict_function at 0x7f30d0894050> triggered tf.function retracing. Tracing is expensive and the excessive number of tracings could be due to (1) creating @tf.function repeatedly in a loop, (2) passing tensors with different shapes, (3) passing Python objects instead of tensors. For (1), please define your @tf.function outside of the loop. For (2), @tf.function has experimental_relax_shapes=True option that relaxes argument shapes that can avoid unnecessary retracing. For (3), please refer to https://www.tensorflow.org/guide/function#controlling_retracing and https://www.tensorflow.org/api_docs/python/tf/function for  more details.\n"
          ],
          "name": "stdout"
        },
        {
          "output_type": "stream",
          "text": [
            "127.0.0.1 - - [05/Apr/2021 19:28:54] \"\u001b[37mPOST /pred_bilstm/ HTTP/1.1\u001b[0m\" 200 -\n"
          ],
          "name": "stderr"
        }
      ]
    }
  ]
}